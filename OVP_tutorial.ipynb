{
 "cells": [
  {
   "cell_type": "markdown",
   "metadata": {},
   "source": [
    "# OVP tutorial"
   ]
  },
  {
   "cell_type": "markdown",
   "metadata": {},
   "source": [
    "This is a tutorial of the pipeline that performs adaptive permutation test to identify outside variants that significantly alter risk beyond the GWAS SNP. We try to replicate the experience of running the script in a sandbox environment \n",
    "\n",
    "In this tutorial, we will run the pipeline on sample gen files and focus on one type of the pipeline: the case-control pipeline (`PIPE_TYPE = CC`). Before continuing, we highly recommend you go through the [Inputs Explanation](#inputs_explanation) section first, exploring the example input files in this directory as you go.\n",
    "\n",
    "We first run the script with the `-h` option to see the required and optional arguments for the script"
   ]
  },
  {
   "cell_type": "code",
   "execution_count": 3,
   "metadata": {},
   "outputs": [
    {
     "name": "stdout",
     "output_type": "stream",
     "text": [
      "usage: OVP_script.py [-h] [--override] [--debug_mode]\n",
      "                     [--one_pair [\\{GWAS\\}_\\{Outside\\}]] [--iter ITER]\n",
      "                     [--case CASE] [--control CONTROL]\n",
      "                     input_folder_path case_gen control_gen SNP_pairs\n",
      "                     init_file output_folder unique_identifier\n",
      "\n",
      "outside var pipeline\n",
      "\n",
      "positional arguments:\n",
      "  input_folder_path     absolute path of input folder\n",
      "  case_gen              name chromosome-specific case .gen file, with path\n",
      "                        specified using argument PATH in init file. Example:\n",
      "                        ALL_MS_impute2_chr20.gen\n",
      "  control_gen           chromosome-specific control .gen file, with path\n",
      "                        specified using argument PATH in init_file. Example:\n",
      "                        ALL_controls_58C_NBS_WTC2_impute2_chr20.gen\n",
      "  SNP_pairs             file with each line having GWAS_rsid and outside_rsid,\n",
      "                        separated by a delimiter. Example: SNPpairs_SAMPLE\n",
      "  init_file             file with init arguments. Formatted in the form:\n",
      "                        keyword,value separated by tab\n",
      "  output_folder         path for output folder for this run. WARNING: If\n",
      "                        --override flag is present, and there exists a folder\n",
      "                        with the same name at the path provided, the folder\n",
      "                        will be deleted before the pipeline runs. If unsure,\n",
      "                        do not supply --override.\n",
      "  unique_identifier     unique identifier for this run. Will be used for\n",
      "                        creating hash, and names of folders and files. This\n",
      "                        parameter is only important if you are using the\n",
      "                        orchestrator script. If you are calling super_pipeline\n",
      "                        script directly, you can make this the same as\n",
      "                        'output_folder'\n",
      "\n",
      "optional arguments:\n",
      "  -h, --help            show this help message and exit\n",
      "  --override            if this argument is present, override any current\n",
      "                        folder with the same unique_identifier\n",
      "  --debug_mode          if this flag is present, set the logging engine to\n",
      "                        'DEBUG' to print out more information during the run\n",
      "  --one_pair [\\{GWAS\\}_\\{Outside\\}], -op [\\{GWAS\\}_\\{Outside\\}]\n",
      "                        supply SNP pair for directory structures (to be used\n",
      "                        with orchestrator.py only)\n",
      "  --iter ITER           if this argument is present, use the number of\n",
      "                        iterations from this argument instead of what\n",
      "                        specified in init file\n",
      "  --case CASE           number of total cases. Usually will get this number\n",
      "                        from case sample file. Use for pipelines that do not\n",
      "                        specify sample files. WARNING: if both this flag and\n",
      "                        the sample case is present, it will cause an error and\n",
      "                        terminate the program.\n",
      "  --control CONTROL     number of total control. Usually will get this number\n",
      "                        from case sample file. Use for pipelines that do not\n",
      "                        specify sample files. WARNING: if both this flag and\n",
      "                        the sample case is present, this will cause an error\n",
      "                        and terminate the program.\n"
     ]
    }
   ],
   "source": [
    "%run python_scripts/OVP_script.py -h"
   ]
  },
  {
   "cell_type": "code",
   "execution_count": 1,
   "metadata": {},
   "outputs": [
    {
     "name": "stdout",
     "output_type": "stream",
     "text": [
      "INFO:root:Starting outside variant pipeline analysis\n",
      "INFO:root:Initializing pipeline. This might take a few seconds.\n",
      "INFO:root:Making output directory\n",
      "INFO:root:READING PAIRING FILE\n",
      "INFO:root:READING SAMPLE FILE(S) (if found)\n",
      "INFO:root:ALL COVARIATES FOUND\n",
      "INFO:root:ALL COVARIATES FOUND\n",
      "INFO:root:READING GENOTYPE FILE(S)\n",
      "INFO:root:Running pipeline...\n",
      "INFO:root:File for G_O_dict not found in current directory: /lab/corradin_data/FOR_AN/OUTSIDE_VARIANT_PIPELINE/github_repos/outside-variants/test_all_files, creating from scratch\n",
      "INFO:root:1 out of 1 GWAS rsIDs found in ../input_data_gen/CASE_chr22_10SNP_1k.gen.\n",
      "INFO:root:10 out of 10 outside rsIDs found in ../input_data_gen/CASE_chr22_10SNP_1k.gen.\n",
      "INFO:root:1 out of 1 GWAS rsIDs found in ../input_data_gen/CONTROL_chr22_10SNP_1k.gen.\n",
      "INFO:root:10 out of 10 outside rsIDs found in ../input_data_gen/CONTROL_chr22_10SNP_1k.gen.\n",
      "INFO:root:File for case_combined and/or control_combined not found, creating and saving both dicts\n",
      "INFO:root:work before the randomization, time elapsed: 0.18952655792236328\n",
      "INFO:root:Calculating odds ratio for the unpermutated dataset\n",
      "INFO:root:OUTPUTTING SHARED DICTS\n",
      "INFO:root:PERFORMING RANDOMIZATIONS\n",
      "INFO:root:CREATING OUTPUT FILES\n",
      "INFO:root:work after the randomization, time elapsed: 0.00264739990234375\n",
      "INFO:root:\n",
      "DONE\n",
      "\n"
     ]
    }
   ],
   "source": [
    "%run python_scripts/OVP_script.py\\\n",
    "input_data_other CASE_chr22_10SNP_1k.gen\\\n",
    "CONTROL_chr22_10SNP_1k.gen SNPpairs_chr22_n10\\\n",
    "INIT_small_file_10iter_nocheck.txt\\\n",
    "test test --override"
   ]
  },
  {
   "cell_type": "markdown",
   "metadata": {},
   "source": [
    "Running the pipeline again without the `--override` flag causes an error"
   ]
  },
  {
   "cell_type": "code",
   "execution_count": 5,
   "metadata": {},
   "outputs": [
    {
     "name": "stderr",
     "output_type": "stream",
     "text": [
      "ERROR:root:File `'python_scripts/super_pipeline_with_timing.py'` not found.\n"
     ]
    }
   ],
   "source": [
    "%run python_scripts/OVP_script.py\\\n",
    "input_data_other CASE_chr22_10SNP_1k.gen\\\n",
    "CONTROL_chr22_10SNP_1k.gen SNPpairs_chr22_n10\\\n",
    "INIT_small_file_10iter_nocheck.txt\\\n",
    "test test"
   ]
  },
  {
   "cell_type": "markdown",
   "metadata": {},
   "source": [
    "Running in debug mode gives you more information about the pipeline and runtime, but also can get cluttered very quickly:"
   ]
  },
  {
   "cell_type": "code",
   "execution_count": 6,
   "metadata": {},
   "outputs": [
    {
     "name": "stderr",
     "output_type": "stream",
     "text": [
      "ERROR:root:File `'python_scripts/super_pipeline_with_timing.py'` not found.\n"
     ]
    }
   ],
   "source": [
    "%run python_scripts/OVP_script.py\\\n",
    "input_data_other CASE_chr22_10SNP_1k.gen\\\n",
    "CONTROL_chr22_10SNP_1k.gen SNPpairs_chr22_n10\\\n",
    "INIT_small_file_10iter_nocheck.txt\\\n",
    "test test --override"
   ]
  },
  {
   "cell_type": "markdown",
   "metadata": {},
   "source": [
    "---\n",
    "<a id='inputs_explanation'></a>\n",
    "\n",
    "# Inputs explanation:\n",
    "## Required inputs\n",
    "\n",
    "### `input_folder_path`\n",
    "   a relative path of a directory where you will place all the other inputs (**`init_file, snp_pairs, MTC_file, sample_file`**)  except for the genetic input files. Although you can also put the genetic files in the same folder (will be discussed later), we find that this setup helps organizing files. Often, large genetic files are placed in a separate storage system and thus moving them or storing multiple copies is impractical\n",
    "   \n",
    "   \n",
    "\n",
    "### `SNP_pairs`\n",
    "\n",
    "pairing file matching GWAS rsIDs to outside rsIDs, **separated by space**. See [example pairing file](./input_data_other/SNPpairs_chr22_n10)\n",
    "\n",
    "### `case_gen` and `control_gen`\n",
    "\n",
    "Example files: [Case gen](./input_data_gen/CASE_chr22_10SNP_1k.gen), [Control gen](./input_data_gen/CASE_chr22_10SNP_1k.gen)\n",
    "\n",
    "Format expected: Space separated, 5 columns, then three columns of genotype probabilities for each subject\n",
    "\n",
    "![gen_file_format](images/gen_file_format.png)\n",
    "\n",
    "\n",
    "* IF PIPE_TYPE IS \"CC\":\n",
    "    - FILE1: file containing case genotype data\n",
    "    - FILE2: file containing control genotype data\n",
    "    - PAIRING: file matching GWAS rsIDs to outside rsIDs (two columns: GWAS OUTSIDE)\n",
    "\n",
    "* IF PIPE_TYPE IS \"COMB\":\n",
    "    - FILE1: file containing all genotype data (case and control combined)\n",
    "    - FILE2: sample file (contains information on which columns in FILE1 are case and which are control)\n",
    "    - PAIRING: file matching GWAS rsIDs to outside rsIDs (two columns: GWAS OUTSIDE)\n",
    "\n",
    "* IF PIPE_TYPE IS \"TRANS_CC\":\n",
    "    - FILE1: file containing a single column of filenames, each file containing case genotype data\n",
    "    - FILE2: file containing a single column of filenames, each file containing control genotype data\n",
    "    - PAIRING: file matching GWAS rsIDs to outside rsIDs (six columns: GWAS CASE1 CONTROL1 OUTSIDE CASE2 CONTROL2)\n",
    "        * CASE1: case file containing GWAS rsID data\n",
    "        * CONTROL1: control file containing GWAS rsID data\n",
    "        * CASE2: case file containing outside rsID data\n",
    "        * CONTROL2: control file containing outside rsID data\n",
    "\n",
    "* IF PIPE_TYPE IS \"TRANS_COMB\":\n",
    "    - FILE1: file containing a single column of filenames, each file containing combined (case + control) genotype data\n",
    "    - FILE2: sample file (contains information on which columns are case and which are control)\n",
    "    - PAIRING: file matching GWAS rsIDs to outside rsIDs (four columns: GWAS CHR1 OUTSIDE CHR2)\n",
    "        * CHR1: genotype file containing GWAS rsID data\n",
    "        * CHR2: genotype file containing outside rsID data\n",
    "   \n",
    "### `init_file`: file containing additional pipeline parameter values\n",
    "\n",
    "[Example init file](input_data_other/INIT_small_file_10iter_nocheck.txt)\n",
    "\n",
    "INIT_FILE format:\n",
    "   * two columns, tab-delimited (KEYWORD   VALUE)\n",
    "   * init file keywords:\n",
    "        * PIPE_TYPE\n",
    "            - type of pipeline desired\n",
    "            - possible values:\n",
    "                * CC:   pipeline with case and control input files\n",
    "                * COMB: pipeline with genotype and sample input files\n",
    "                * TRANS_CC:   pipeline with multiple case and control input files\n",
    "                * TRANS_COMB: pipeline with multiple genotype and sample input files\n",
    "        * GS\n",
    "            - column index for start of genotype data (1-indexed)\n",
    "        * ITER\n",
    "            - desired number of randomizing iterations to perform\n",
    "        * TRIPS\n",
    "            - binary value indicating whether or not the genotype data is in triplicate or letter format\n",
    "            - 0 indicates letter format, 1 indicates triplicate format\n",
    "        * RSID\n",
    "            - column index for rsID info (1-indexed)\n",
    "        * SNP\n",
    "            - column index for SNP information (1-indexed)\n",
    "        * DELIM\n",
    "            - delimiter for input files (FILE1, FILE2, PAIRING)\n",
    "            - possible values:\n",
    "                * TAB: tab-delimited ('\\t')\n",
    "                * SPACE: space-delimited (' ')\n",
    "        * OR_CALC\n",
    "            - integer value indicating which odds ratio formula to use\n",
    "            - possible values:\n",
    "                * 0:    (# case hits / # total cases) / (# control hits / # total control)\n",
    "                * 1:    (# case hits / # case non-hits) / (# control hits / # control non-hits)\n",
    "                * 2:    (# A cases / # A controls) / (# B cases / # B controls)\n",
    "                        *assuming possible genotypes are AA/AB/BB*\n",
    "        * 3:\todds ratio calculated using logistic regression (allows for covariates to be included)\n",
    "        * SKIP\n",
    "            - string used to replace unknown possible genotype data (optional; default is \"<DEL>\")\n",
    "        * PATH\n",
    "            - path to input files\n",
    "        * PARTIAL\n",
    "            - binary value indicating whether or not to create output files as the pipeline runs\n",
    "            - 0 indicates creating output files at the very end, 1 indicates creating output files on the go\n",
    "        * CHECK\n",
    "            - binary value indication whether or not to check the start indices of the genotype input files\n",
    "            - 0 indicates no format checking, 1 indicates format checking will be performed\n",
    "        * SAMPLE\n",
    "            - only needs to be specified when CC or TRANS_CC pipeline runs logistic regression (OR_CALC = 3), otherwise omit\n",
    "            - valid filenames for case and control sample files, separated by a comma, ie, SAMPLE\tfake_case_sample.txt,fake_control_sample.txt\n",
    "        * COVS\n",
    "            - valid path to file containing column titles in the sample files that wish to be used as covariates in logistic regression (OR_CALC = 3) (optional)\n",
    "            - ie, sample file could contain columns for \"age\", \"sex\", \"height\", \"weight\", etc.\n",
    "            - a valid COVS file would contain a single column of whichever of these identifiers should be included in the logistic regression\n",
    "        * CUTOFF\n",
    "            - high and low cutoffs for converting from triplicate genotype encoding to letter encoding (optional; default is .9, .3)\n",
    "            - in order to be valid, one element must be >= high and all other < low\n",
    "            - must input high and low decimal values separated by a comma\n",
    "                - ie, \"CUTOFF\t.9,.3\" has a high cutoff of .9 and a low cutoff of .3\n",
    "        * NA\n",
    "            - string identifier to be used when genotype for individual is unknown (optional; default is \"NA\")\n",
    "   \n",
    "   "
   ]
  },
  {
   "cell_type": "markdown",
   "metadata": {},
   "source": [
    "---\n",
    "# Output explanations"
   ]
  },
  {
   "cell_type": "markdown",
   "metadata": {},
   "source": [
    "* **objs/**\n",
    " - a folder for caching data structures "
   ]
  }
 ],
 "metadata": {
  "kernelspec": {
   "display_name": "Python 3",
   "language": "python",
   "name": "python3"
  },
  "language_info": {
   "codemirror_mode": {
    "name": "ipython",
    "version": 3
   },
   "file_extension": ".py",
   "mimetype": "text/x-python",
   "name": "python",
   "nbconvert_exporter": "python",
   "pygments_lexer": "ipython3",
   "version": "3.7.3"
  },
  "toc-autonumbering": false
 },
 "nbformat": 4,
 "nbformat_minor": 2
}
